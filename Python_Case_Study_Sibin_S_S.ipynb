{
  "nbformat": 4,
  "nbformat_minor": 0,
  "metadata": {
    "colab": {
      "provenance": [],
      "include_colab_link": true
    },
    "kernelspec": {
      "name": "python3",
      "display_name": "Python 3"
    },
    "language_info": {
      "name": "python"
    }
  },
  "cells": [
    {
      "cell_type": "markdown",
      "metadata": {
        "id": "view-in-github",
        "colab_type": "text"
      },
      "source": [
        "<a href=\"https://colab.research.google.com/github/Sibin-S-S/Sibin_DSA_Pathshaala/blob/main/Python_Case_Study_Sibin_S_S.ipynb\" target=\"_parent\"><img src=\"https://colab.research.google.com/assets/colab-badge.svg\" alt=\"Open In Colab\"/></a>"
      ]
    },
    {
      "cell_type": "markdown",
      "source": [
        "# Answer the following questions using only builtin Python datatypes and functions. Do not use Numpy or Scipy (i.e. No library imports allowed)"
      ],
      "metadata": {
        "id": "zVV_KMSIUG-A"
      }
    },
    {
      "cell_type": "markdown",
      "source": [
        "# Q1. Write a function that return the range (maximum and minimun) of a given list of numbers"
      ],
      "metadata": {
        "id": "uZnK7VgWV5SI"
      }
    },
    {
      "cell_type": "code",
      "source": [
        "def min_max(num):\n",
        "  minimum =num[0]\n",
        "  maximum = num[0]\n",
        "  for i in num:\n",
        "    if i < minimum:\n",
        "      minimum = i\n",
        "    if i > maximum:\n",
        "      maximum =i\n",
        "  return minimum,maximum\n",
        "nums = [94, 200, 39, 6, 99]\n",
        "mn, mx =min_max(nums)\n",
        "print(\"Minimum is:\", mn)\n",
        "print(\"Maximum is:\", mx)\n",
        ""
      ],
      "metadata": {
        "id": "vuAbJQcOWAM7",
        "colab": {
          "base_uri": "https://localhost:8080/"
        },
        "outputId": "87cc2962-707b-451e-d492-2b40bfb0275d"
      },
      "execution_count": 42,
      "outputs": [
        {
          "output_type": "stream",
          "name": "stdout",
          "text": [
            "Minimum is: 6\n",
            "Maximum is: 200\n"
          ]
        }
      ]
    },
    {
      "cell_type": "markdown",
      "source": [
        "## Q2. Write function that returns mean value of a list of numbers"
      ],
      "metadata": {
        "id": "Y5_v5a8_U1O-"
      }
    },
    {
      "cell_type": "code",
      "source": [
        "def mean(num):\n",
        "    sum = 0\n",
        "    n = 0\n",
        "    for i in num:\n",
        "        sum = sum + i\n",
        "        n = n + 1\n",
        "    mean = sum / n\n",
        "    return mean\n",
        "data = [94, 20, 39, 6, 99]\n",
        "print(\"The Mean is:\", mean(data))"
      ],
      "metadata": {
        "id": "RajjEyacU7Sc",
        "colab": {
          "base_uri": "https://localhost:8080/"
        },
        "outputId": "2ac84dc2-1553-4640-fd14-102c35628e6e"
      },
      "execution_count": 41,
      "outputs": [
        {
          "output_type": "stream",
          "name": "stdout",
          "text": [
            "The Mean is: 51.6\n"
          ]
        }
      ]
    },
    {
      "cell_type": "markdown",
      "source": [
        "# Q3. Write a function that returns the median value of a list of numbers"
      ],
      "metadata": {
        "id": "OpeRxoEoVTIP"
      }
    },
    {
      "cell_type": "code",
      "source": [
        "def median(num):\n",
        "  n = len(num)\n",
        "  for i in range(n):\n",
        "    for j in range(n - i - 1):\n",
        "      if num[j] > num[j + 1]:\n",
        "        num[j], num[j + 1] = num[j + 1], num[j]\n",
        "\n",
        "  if n % 2 == 0:\n",
        "    median_value = (num[(n // 2) - 1] + num[(n // 2)]) / 2\n",
        "  else:\n",
        "    median_value = num[n // 2]\n",
        "  return median_value\n",
        "\n",
        "my_list = [55, 15, 34, 65, 32]\n",
        "print('Median is :', median(my_list))\n",
        "\n",
        "my_list_even = [5, 9, 66, 65, 30, 10]\n",
        "print('Median is :', median(my_list_even))"
      ],
      "metadata": {
        "id": "u1CUy0UOVaQi",
        "colab": {
          "base_uri": "https://localhost:8080/"
        },
        "outputId": "b174bd12-dd2c-4256-f70a-94350b263345"
      },
      "execution_count": 53,
      "outputs": [
        {
          "output_type": "stream",
          "name": "stdout",
          "text": [
            "Median is : 34\n",
            "Median is : 20.0\n"
          ]
        }
      ]
    },
    {
      "cell_type": "markdown",
      "source": [
        "## Q4. Write a function to return the mod of a list of numbers, if no mod exists, it should return None. If more than one mod exist, return the mod values as list"
      ],
      "metadata": {
        "id": "2EMOG7AZSqVn"
      }
    },
    {
      "cell_type": "code",
      "execution_count": 59,
      "metadata": {
        "id": "qnMm2dhhSk3-",
        "colab": {
          "base_uri": "https://localhost:8080/"
        },
        "outputId": "4adbe38e-7914-4619-f137-d0c05562d25d"
      },
      "outputs": [
        {
          "output_type": "stream",
          "name": "stdout",
          "text": [
            "4\n",
            "None\n",
            "[1, 2, 3]\n"
          ]
        }
      ],
      "source": [
        "def mode(number):\n",
        "    if not number:\n",
        "        return None\n",
        "\n",
        "    counts = {}\n",
        "    for num in number:\n",
        "        if num in counts:\n",
        "            counts[num] += 1\n",
        "        else:\n",
        "            counts[num] = 1\n",
        "\n",
        "    max_count = 0\n",
        "    for count in counts.values():\n",
        "        if count > max_count:\n",
        "            max_count = count\n",
        "\n",
        "    if max_count == 1:\n",
        "        return None\n",
        "\n",
        "    modes = []\n",
        "    for num, freq in counts.items():\n",
        "        if freq == max_count:\n",
        "            modes.append(num)\n",
        "\n",
        "    if len(modes) == 1:\n",
        "        return modes[0]\n",
        "    return modes\n",
        "\n",
        "print(mode([4, 1, 2, 2, 3, 4, 4]))\n",
        "print(mode([1, 2, 3, 4]))\n",
        "print(mode([1, 1, 2, 2, 3, 3]))"
      ]
    },
    {
      "cell_type": "markdown",
      "source": [
        "## Q5. Write function to compute a given percentile value (e.g. 90th percentile) of a list of numbers"
      ],
      "metadata": {
        "id": "LcqWwqtgTCiL"
      }
    },
    {
      "cell_type": "code",
      "source": [
        "def percentile(data,percent):\n",
        " n = len(data)\n",
        " for i in range(n):\n",
        "  for j in range(0, n-i-1):\n",
        "    if data[j] > data[j+1]:\n",
        "      data[j], data[j+1] = data[j+1], data[j]\n",
        "  k = (n - 1) * (percent / 100)\n",
        "  f = int(k)\n",
        "  c = f + 1\n",
        "\n",
        "  if c >= n:\n",
        "    return data[f]\n",
        "  return data[f] + (data[c] - data[f]) * (k - f)\n",
        "\n",
        "nums = [15, 20, 35, 40, 50]\n",
        "print(\"90th Percentile:\", percentile(nums, 90))"
      ],
      "metadata": {
        "id": "Sn307h0TTb2b",
        "colab": {
          "base_uri": "https://localhost:8080/"
        },
        "outputId": "b34bbeb8-c712-4b7c-e091-b4d4257c8e3f"
      },
      "execution_count": 6,
      "outputs": [
        {
          "output_type": "stream",
          "name": "stdout",
          "text": [
            "90th Percentile: 46.0\n"
          ]
        }
      ]
    },
    {
      "cell_type": "markdown",
      "source": [
        "# Q6. Write a function that returns the lower bound of a list of numbers"
      ],
      "metadata": {
        "id": "N-TYHkDcWOfS"
      }
    },
    {
      "cell_type": "code",
      "source": [
        "def lower_bound(data):\n",
        "  n = len(data)\n",
        "  for i in range(n):\n",
        "   for j in range(0, n-i-1):\n",
        "    if data[j] > data[j+1]:\n",
        "      data[j], data[j+1] = data[j+1], data[j]\n",
        "\n",
        "    def percentile(data, percent):\n",
        "        k = (len(data) - 1) * (percent / 100)\n",
        "        f = int(k)\n",
        "        c = f + 1\n",
        "        if c >= len(data):\n",
        "            return data[f]\n",
        "        return data[f] + (data[c] - data[f]) * (k - f)\n",
        "\n",
        "\n",
        "    Q1 = percentile(data, 25)\n",
        "    Q3 = percentile(data, 75)\n",
        "    IQR = Q3 - Q1\n",
        "\n",
        "\n",
        "    lower = Q1 - 1.5 * IQR\n",
        "    return lower\n",
        "\n",
        "\n",
        "nums = [2, 4, 6, 8, 10, 12, 14]\n",
        "print(\"Lower Bound:\", lower_bound(nums))"
      ],
      "metadata": {
        "id": "Y-RKPdKuW5nx",
        "colab": {
          "base_uri": "https://localhost:8080/"
        },
        "outputId": "db6df9c8-387d-4a53-96a6-6850fb1ee613"
      },
      "execution_count": 13,
      "outputs": [
        {
          "output_type": "stream",
          "name": "stdout",
          "text": [
            "Lower Bound: -4.0\n"
          ]
        }
      ]
    },
    {
      "cell_type": "markdown",
      "source": [
        "## Q7. Write function to return any outliers from a given list of numbers, if no outliers present it should return None"
      ],
      "metadata": {
        "id": "5aHfaI_jThpX"
      }
    },
    {
      "cell_type": "code",
      "source": [
        "def outliers(data):\n",
        "  n = len(data)\n",
        "  for i in range(n):\n",
        "   for j in range(0, n-i-1):\n",
        "    if data[j] > data[j+1]:\n",
        "      data[j], data[j+1] = data[j+1], data[j]\n",
        "\n",
        "    def percentile(data, percent):\n",
        "        k = (len(data) - 1) * (percent / 100)\n",
        "        f = int(k)\n",
        "        c = f + 1\n",
        "        if c >= len(data):\n",
        "            return data[f]\n",
        "        return data[f] + (data[c] - data[f]) * (k - f)\n",
        "\n",
        "\n",
        "    Q1 = percentile(data, 25)\n",
        "    Q3 = percentile(data, 75)\n",
        "    IQR = Q3 - Q1\n",
        "\n",
        "\n",
        "    lower_bound = Q1 - 1.5 * IQR\n",
        "    upper_bound = Q3 + 1.5 * IQR\n",
        "\n",
        "\n",
        "    outliers = [x for x in data if x < lower_bound or x > upper_bound]\n",
        "\n",
        "    return outliers if outliers else None\n",
        "\n",
        "\n",
        "nums = [18, 22, 37, 45, 17, 19, 39, 21, 110]\n",
        "print(\"Outliers:\", outliers(nums))"
      ],
      "metadata": {
        "id": "gG6-qzT7T0Si",
        "colab": {
          "base_uri": "https://localhost:8080/"
        },
        "outputId": "eca19ced-8988-46e9-dc36-1abf18d42dc7"
      },
      "execution_count": 9,
      "outputs": [
        {
          "output_type": "stream",
          "name": "stdout",
          "text": [
            "Outliers: [18, 22, 45, 17, 19, 21, 110]\n"
          ]
        }
      ]
    },
    {
      "cell_type": "markdown",
      "source": [
        "##Q8. Write a function to return standard deviation of a list of numbers"
      ],
      "metadata": {
        "id": "jI9t-tcDT5EK"
      }
    },
    {
      "cell_type": "code",
      "source": [
        "def std(num):\n",
        "  sum = 0\n",
        "  n=len(num)\n",
        "  for i in num:\n",
        "    sum = sum + i\n",
        "  mean = sum / n\n",
        "\n",
        "  var = 0\n",
        "  for i in num:\n",
        "    var = var + (i - mean) ** 2\n",
        "  var = var / n\n",
        "\n",
        "  std = var ** 0.5\n",
        "  return std\n",
        "\n",
        "list2= [4,8,9,10,5]\n",
        "print(f'The standard deviation is: {std(list2):.3f}')\n"
      ],
      "metadata": {
        "id": "MMU_cMlLUFxJ",
        "colab": {
          "base_uri": "https://localhost:8080/"
        },
        "outputId": "210a9dd2-a917-47f4-ce86-b87eb9bae4dd"
      },
      "execution_count": 74,
      "outputs": [
        {
          "output_type": "stream",
          "name": "stdout",
          "text": [
            "The standard deviation is: 2.315\n"
          ]
        }
      ]
    },
    {
      "cell_type": "markdown",
      "source": [
        "## Q9. Write function to compute and return Z-score values of a list of numbers"
      ],
      "metadata": {
        "id": "LufmQDJPURkM"
      }
    },
    {
      "cell_type": "code",
      "source": [
        "def Z_score(num):\n",
        "  sum=0\n",
        "  n=len(num)\n",
        "  for i in num:\n",
        "    sum=sum + i\n",
        "  mean=sum/n\n",
        "\n",
        "  var=0\n",
        "  for i in num:\n",
        "    var+=((i-mean)**2)\n",
        "  variance=var/n\n",
        "\n",
        "  std=(variance**(1/2))\n",
        "\n",
        "  Z_score_list=[]\n",
        "  for i in num:\n",
        "    Z_score_list.append((i-mean)/std)\n",
        "  return Z_score_list\n",
        "list2=[2,6,8,9,11]\n",
        "print(\"Z SCORE:\",Z_score(list2))"
      ],
      "metadata": {
        "id": "ml2qpSpFUYxV",
        "colab": {
          "base_uri": "https://localhost:8080/"
        },
        "outputId": "805b820c-af25-4124-c65f-36eaf0966af4"
      },
      "execution_count": 10,
      "outputs": [
        {
          "output_type": "stream",
          "name": "stdout",
          "text": [
            "Z SCORE: [-1.6996731711975948, -0.3922322702763681, 0.2614881801842453, 0.5883484054145519, 1.2420688558751654]\n"
          ]
        }
      ]
    },
    {
      "cell_type": "markdown",
      "source": [
        "## Q10. Write a function to compute and return the Pearson correlation coefficient value of two list of numbers"
      ],
      "metadata": {
        "id": "YQSNHIfxUb6s"
      }
    },
    {
      "cell_type": "code",
      "source": [
        "def pearson_correlation(x, y):\n",
        "    if len(x) != len(y) or len(x) == 0:\n",
        "        return None\n",
        "\n",
        "    n = len(x)\n",
        "\n",
        "    mean_x = sum(x) / n\n",
        "    mean_y = sum(y) / n\n",
        "\n",
        "\n",
        "    numerator = sum((x[i] - mean_x) * (y[i] - mean_y) for i in range(n))\n",
        "    denominator_x = (sum((x[i] - mean_x) ** 2 for i in range(n))) ** 0.5\n",
        "    denominator_y = (sum((y[i] - mean_y) ** 2 for i in range(n))) ** 0.5\n",
        "\n",
        "    if denominator_x == 0 or denominator_y == 0:\n",
        "        return None\n",
        "\n",
        "    return numerator / (denominator_x * denominator_y)\n",
        "\n",
        "x_vals = [10, 20, 30, 40, 50]\n",
        "y_vals = [15, 25, 35, 45, 55]\n",
        "print(\"Pearson correlation:\", pearson_correlation(x_vals, y_vals))\n"
      ],
      "metadata": {
        "id": "1YGqr3T6Uk6H",
        "colab": {
          "base_uri": "https://localhost:8080/"
        },
        "outputId": "716813a1-cd18-44c3-aa63-f23052821bef"
      },
      "execution_count": 14,
      "outputs": [
        {
          "output_type": "stream",
          "name": "stdout",
          "text": [
            "Pearson correlation: 1.0\n"
          ]
        }
      ]
    }
  ]
}