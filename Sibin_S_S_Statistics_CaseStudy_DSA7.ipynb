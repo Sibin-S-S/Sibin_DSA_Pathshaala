{
  "nbformat": 4,
  "nbformat_minor": 0,
  "metadata": {
    "colab": {
      "provenance": [],
      "authorship_tag": "ABX9TyPi4W8fQYzuk5+VgYneodhy",
      "include_colab_link": true
    },
    "kernelspec": {
      "name": "python3",
      "display_name": "Python 3"
    },
    "language_info": {
      "name": "python"
    }
  },
  "cells": [
    {
      "cell_type": "markdown",
      "metadata": {
        "id": "view-in-github",
        "colab_type": "text"
      },
      "source": [
        "<a href=\"https://colab.research.google.com/github/Sibin-S-S/Sibin_DSA_Pathshaala/blob/main/Sibin_S_S_Statistics_CaseStudy_DSA7.ipynb\" target=\"_parent\"><img src=\"https://colab.research.google.com/assets/colab-badge.svg\" alt=\"Open In Colab\"/></a>"
      ]
    },
    {
      "cell_type": "markdown",
      "source": [
        "1. Dataset: Monthly temperatures in a city (in °C): 12, 15, 14, 16, 18, 20, 22, 19,\n",
        "17, 15, 13, 10 Questions:\n",
        "a) Calculate the mean temperature.\n",
        "b) Calculate the median temperature.\n",
        "c) Find the mode of the temperature data.\n",
        "d) Range and Variance"
      ],
      "metadata": {
        "id": "ZFJk32ZphtG_"
      }
    },
    {
      "cell_type": "code",
      "execution_count": 2,
      "metadata": {
        "colab": {
          "base_uri": "https://localhost:8080/"
        },
        "id": "zrDaJFaRhgkn",
        "outputId": "063c937b-e893-420c-a1ab-449731c14cca"
      },
      "outputs": [
        {
          "output_type": "stream",
          "name": "stdout",
          "text": [
            "The Mean is: 15.92\n",
            "The Median is: 15.5\n",
            "The Mode is : 15\n",
            "The Range is: 12\n",
            "Variance is : 11.08\n"
          ]
        }
      ],
      "source": [
        "\n",
        "temperature = [12, 15, 14, 16, 18, 20, 22, 19, 17, 15, 13, 10]\n",
        "\n",
        "mean = sum(temperature) / len(temperature)\n",
        "\n",
        "temperature_sorted = sorted(temperature)\n",
        "n = len(temperature_sorted)\n",
        "if n % 2 == 0:\n",
        "    median = (temperature_sorted[n//2 - 1] + temperature_sorted[n//2]) / 2\n",
        "else:\n",
        "    median = temperature_sorted[n//2]\n",
        "\n",
        "mode = None\n",
        "max_count = 0\n",
        "for value in temperature_sorted:\n",
        "    count = temperature_sorted.count(value)\n",
        "    if count > max_count:\n",
        "        max_count = count\n",
        "        mode = value\n",
        "\n",
        "data_range = max(temperature) - min(temperature)\n",
        "variance = sum((x - mean) ** 2 for x in temperature) / len(temperature)\n",
        "\n",
        "print(\"The Mean is:\", round(mean, 2))\n",
        "print(\"The Median is:\", median)\n",
        "print(\"The Mode is :\", mode)\n",
        "print(\"The Range is:\", data_range)\n",
        "print(\"Variance is :\", round(variance, 2))\n"
      ]
    },
    {
      "cell_type": "markdown",
      "source": [
        "2. Dataset: Heights of students (in cm): 150, 160, 165, 170, 155, 160, 162, 168\n",
        "Questions: a) Calculate the range of the heights.\n",
        "b) Calculate the variance of the heights.\n",
        "c) Standard Deviation"
      ],
      "metadata": {
        "id": "wAeSyeW4jkj2"
      }
    },
    {
      "cell_type": "code",
      "source": [
        "heights = [150, 160, 165, 170, 155, 160, 162, 168]\n",
        "height_range = max(heights) - min(heights)\n",
        "variance = sum((x - sum(heights) / len(heights)) ** 2 for x in heights) / len(heights)\n",
        "standard_deviation = variance ** 0.5\n",
        "print(f'The Range of given heights is {height_range}')\n",
        "print(f'The Variance of given heights is {round(variance,2)}')\n",
        "print(f'The Standard Deviation of given heights is {round(standard_deviation,2)}')"
      ],
      "metadata": {
        "colab": {
          "base_uri": "https://localhost:8080/"
        },
        "id": "q3C8yyk1kOBo",
        "outputId": "476626e2-74c2-489a-b309-54a3aec851ad"
      },
      "execution_count": 5,
      "outputs": [
        {
          "output_type": "stream",
          "name": "stdout",
          "text": [
            "The Range of given heights is 20\n",
            "The Variance of given heights is 38.19\n",
            "The Standard Deviation of given heights is 6.18\n"
          ]
        }
      ]
    },
    {
      "cell_type": "markdown",
      "source": [
        "3. Dataset: Weekly expenses (in $): 200, 250, 300, 220, 270, 290, 310\n",
        "Questions: a) Calculate the standard deviation of the weekly expenses."
      ],
      "metadata": {
        "id": "gvH-hMmglxfD"
      }
    },
    {
      "cell_type": "code",
      "source": [
        "expenses= [200, 250, 300, 220, 270, 290, 310]\n",
        "variance = sum((x - sum(expenses) / len(expenses)) ** 2 for x in expenses) / len(expenses)\n",
        "standard_deviation = variance ** 0.5\n",
        "print(f'The Standard Deviation of the given expenses is : {round(standard_deviation,2)}')\n",
        "\n"
      ],
      "metadata": {
        "colab": {
          "base_uri": "https://localhost:8080/"
        },
        "id": "FDD0ADu8mXhj",
        "outputId": "89e34ee8-7332-42cc-9651-818e3e43b776"
      },
      "execution_count": 9,
      "outputs": [
        {
          "output_type": "stream",
          "name": "stdout",
          "text": [
            "The Standard Deviation of the given expenses is : 38.44\n"
          ]
        }
      ]
    },
    {
      "cell_type": "markdown",
      "source": [
        "4. Dataset: Advertising Spending (in $1000s): 10, 20, 15, 25, 30; Sales (in\n",
        "$1000s): 100, 150, 120, 180, 200\n",
        "Questions: a) Calculate the covariance between advertising spending and sales.\n",
        "b) Correlation\n"
      ],
      "metadata": {
        "id": "w6iAz4d0nKWF"
      }
    },
    {
      "cell_type": "code",
      "source": [
        "\n",
        "spend = [10, 20, 15, 25, 30]\n",
        "sales = [100, 150, 120, 180, 200]\n",
        "\n",
        "mean_spend = sum(spend) / len(spend)\n",
        "mean_sales = sum(sales) / len(sales)\n",
        "\n",
        "cov = sum((x - mean_spend) * (y - mean_sales) for x, y in zip(spend, sales)) / len(spend)\n",
        "\n",
        "var_spend = sum((x - mean_spend) ** 2 for x in spend) / len(spend)\n",
        "var_sales = sum((y - mean_sales) ** 2 for y in sales) / len(sales)\n",
        "std_spend = var_spend ** 0.5\n",
        "std_sales = var_sales ** 0.5\n",
        "\n",
        "corr = cov / (std_spend * std_sales)\n",
        "\n",
        "print(\"The Covariance is:\", round(cov, 2))\n",
        "print(\"The Correlation is:\", round(corr, 2))\n"
      ],
      "metadata": {
        "colab": {
          "base_uri": "https://localhost:8080/"
        },
        "id": "WcpJeHFtnQ0c",
        "outputId": "79d8d09f-337a-4b00-d495-797f71932de6"
      },
      "execution_count": 8,
      "outputs": [
        {
          "output_type": "stream",
          "name": "stdout",
          "text": [
            "The Covariance is: 260.0\n",
            "The Correlation is: 1.0\n"
          ]
        }
      ]
    },
    {
      "cell_type": "markdown",
      "source": [
        "5. Dataset: Study Hours: 2, 4, 6, 8, 10; Exam Scores: 55, 60, 65, 70, 75\n",
        "Questions: a) Calculate the correlation coefficient between study hours and exam\n",
        "scores.\n",
        "b) Interpret the result.\n",
        "c) Quartiles and IQR"
      ],
      "metadata": {
        "id": "KcuCdGJor947"
      }
    },
    {
      "cell_type": "code",
      "source": [
        "\n",
        "study_hours = [2, 4, 6, 8, 10]\n",
        "exam_scores = [55, 60, 65, 70, 75]\n",
        "\n",
        "mean_hours = sum(study_hours) / len(study_hours)\n",
        "mean_scores = sum(exam_scores) / len(exam_scores)\n",
        "\n",
        "total = 0\n",
        "for i in range(len(study_hours)):\n",
        "    total += (study_hours[i] - mean_hours) * (exam_scores[i] - mean_scores)\n",
        "covariance = total / len(study_hours)\n",
        "\n",
        "sum_sq_hours = 0\n",
        "sum_sq_scores = 0\n",
        "for i in range(len(study_hours)):\n",
        "    sum_sq_hours += (study_hours[i] - mean_hours) ** 2\n",
        "    sum_sq_scores += (exam_scores[i] - mean_scores) ** 2\n",
        "\n",
        "std_hours = (sum_sq_hours / len(study_hours)) ** 0.5\n",
        "std_scores = (sum_sq_scores / len(exam_scores)) ** 0.5\n",
        "\n",
        "correlation = covariance / (std_hours * std_scores)\n",
        "\n",
        "\n",
        "scores_sorted = sorted(exam_scores)\n",
        "n = len(scores_sorted)\n",
        "\n",
        "\n",
        "if n % 2 == 0:\n",
        "    Q2 = (scores_sorted[n//2 - 1] + scores_sorted[n//2]) / 2\n",
        "else:\n",
        "    Q2 = scores_sorted[n//2]\n",
        "\n",
        "\n",
        "lower_half = scores_sorted[:n//2]\n",
        "m = len(lower_half)\n",
        "if m % 2 == 0:\n",
        "    Q1 = (lower_half[m//2 - 1] + lower_half[m//2]) / 2\n",
        "else:\n",
        "    Q1 = lower_half[m//2]\n",
        "\n",
        "\n",
        "upper_half = scores_sorted[n//2 + 1:] if n % 2 != 0 else scores_sorted[n//2:]\n",
        "m = len(upper_half)\n",
        "if m % 2 == 0:\n",
        "    Q3 = (upper_half[m//2 - 1] + upper_half[m//2]) / 2\n",
        "else:\n",
        "    Q3 = upper_half[m//2]\n",
        "\n",
        "IQR = Q3 - Q1\n",
        "\n",
        "print(\"Correlation Coefficient:\", (correlation))\n",
        "print(\"Q1:\", Q1)\n",
        "print(\"Q2:\", Q2)\n",
        "print(\"Q3:\", Q3)\n",
        "print(\"Interquartile Range (IQR):\", IQR)\n"
      ],
      "metadata": {
        "colab": {
          "base_uri": "https://localhost:8080/"
        },
        "id": "RNyRiS94sMah",
        "outputId": "9b3704a9-b0e0-4329-a4e4-dbf78ffe474a"
      },
      "execution_count": 12,
      "outputs": [
        {
          "output_type": "stream",
          "name": "stdout",
          "text": [
            "Correlation Coefficient: 0.9999999999999998\n",
            "Q1: 57.5\n",
            "Q2: 65\n",
            "Q3: 72.5\n",
            "Interquartile Range (IQR): 15.0\n"
          ]
        }
      ]
    },
    {
      "cell_type": "markdown",
      "source": [
        "Dataset: Monthly savings (in $): 200, 300, 400, 500, 600, 700, 800, 900, 1000,\n",
        "1100 Questions: a) Calculate the first quartile (Q1) and third quartile (Q3).\n",
        "b) Calculate the interquartile range (IQR).\n",
        "c) Detecting Outliers\n"
      ],
      "metadata": {
        "id": "ZYGCKBWTv22S"
      }
    },
    {
      "cell_type": "code",
      "source": [
        "def median(data):\n",
        "    data_sorted = sorted(data)\n",
        "    n = len(data_sorted)\n",
        "    if n % 2 == 0:\n",
        "        return (data_sorted[n//2 - 1] + data_sorted[n//2]) / 2\n",
        "    else:\n",
        "        return data_sorted[n//2]\n",
        "\n",
        "def quartiles_and_iqr(data):\n",
        "    data_sorted = sorted(data)\n",
        "    n = len(data_sorted)\n",
        "\n",
        "    Q2 = median(data_sorted)\n",
        "\n",
        "\n",
        "    if n % 2 == 0:\n",
        "        lower_half = data_sorted[:n//2]\n",
        "        upper_half = data_sorted[n//2:]\n",
        "    else:\n",
        "        lower_half = data_sorted[:n//2]\n",
        "        upper_half = data_sorted[n//2+1:]\n",
        "\n",
        "    Q1 = median(lower_half)\n",
        "    Q3 = median(upper_half)\n",
        "    IQR = Q3 - Q1\n",
        "\n",
        "    return Q1, Q2, Q3, IQR\n",
        "\n",
        "def detect_outliers(data):\n",
        "    Q1, Q2, Q3, IQR = quartiles_and_iqr(data)\n",
        "    lower_bound = Q1 - 1.5 * IQR\n",
        "    upper_bound = Q3 + 1.5 * IQR\n",
        "    outliers = [x for x in data if x < lower_bound or x > upper_bound]\n",
        "    return outliers, lower_bound, upper_bound\n",
        "\n",
        "savings = [200, 300, 400, 500, 600, 700, 800, 900, 1000, 1100]\n",
        "\n",
        "Q1, Q2, Q3, IQR = quartiles_and_iqr(savings)\n",
        "outliers, lower, upper = detect_outliers(savings)\n",
        "\n",
        "print(\"Q1:\", Q1)\n",
        "print(\"Q2 :\", Q2)\n",
        "print(\"Q3:\", Q3)\n",
        "print(\"IQR:\", IQR)\n",
        "print(\"Lower Bound:\", lower)\n",
        "print(\"Upper Bound:\", upper)\n",
        "print(\"Outliers:\", outliers if outliers else \"No Outliers\")\n"
      ],
      "metadata": {
        "colab": {
          "base_uri": "https://localhost:8080/"
        },
        "id": "4Z9fFC4pzZj3",
        "outputId": "63ebdcd6-fd8d-4e80-9a62-ae24fca404a2"
      },
      "execution_count": 14,
      "outputs": [
        {
          "output_type": "stream",
          "name": "stdout",
          "text": [
            "Q1: 400\n",
            "Q2 : 650.0\n",
            "Q3: 900\n",
            "IQR: 500\n",
            "Lower Bound: -350.0\n",
            "Upper Bound: 1650.0\n",
            "Outliers: No Outliers\n"
          ]
        }
      ]
    },
    {
      "cell_type": "markdown",
      "source": [
        "7. Dataset: Ages of employees: 22, 25, 28, 30, 35, 40, 45, 50, 55, 100\n",
        "Questions: a) Identify any outliers using the IQR method.\n"
      ],
      "metadata": {
        "id": "jjq5DUAz4PzA"
      }
    },
    {
      "cell_type": "code",
      "source": [
        "def median(data):\n",
        "    data_sorted = sorted(data)\n",
        "    n = len(data_sorted)\n",
        "    if n % 2 == 0:\n",
        "        return (data_sorted[n//2 - 1] + data_sorted[n//2]) / 2\n",
        "    else:\n",
        "        return data_sorted[n//2]\n",
        "\n",
        "def quartiles_and_iqr(data):\n",
        "    data_sorted = sorted(data)\n",
        "    n = len(data_sorted)\n",
        "\n",
        "    Q2 = median(data_sorted)\n",
        "\n",
        "\n",
        "    if n % 2 == 0:\n",
        "        lower_half = data_sorted[:n//2]\n",
        "        upper_half = data_sorted[n//2:]\n",
        "    else:\n",
        "        lower_half = data_sorted[:n//2]\n",
        "        upper_half = data_sorted[n//2+1:]\n",
        "\n",
        "    Q1 = median(lower_half)\n",
        "    Q3 = median(upper_half)\n",
        "    IQR = Q3 - Q1\n",
        "\n",
        "    return Q1, Q2, Q3, IQR\n",
        "\n",
        "def detect_outliers(data):\n",
        "    Q1, Q2, Q3, IQR = quartiles_and_iqr(data)\n",
        "    lower_bound = Q1 - 1.5 * IQR\n",
        "    upper_bound = Q3 + 1.5 * IQR\n",
        "    outliers = [x for x in data if x < lower_bound or x > upper_bound]\n",
        "    return outliers, lower_bound, upper_bound\n",
        "\n",
        "age = [22, 25, 28, 30, 35, 40, 45, 50, 55, 100 ]\n",
        "\n",
        "Q1, Q2, Q3, IQR = quartiles_and_iqr(age)\n",
        "outliers, lower, upper = detect_outliers(age)\n",
        "\n",
        "\n",
        "print(\"Outliers:\", outliers if outliers else \"No Outliers\")"
      ],
      "metadata": {
        "colab": {
          "base_uri": "https://localhost:8080/"
        },
        "id": "YsFzA2S94jUI",
        "outputId": "1639da2b-b428-4e3d-ddd5-b373f940cb05"
      },
      "execution_count": 19,
      "outputs": [
        {
          "output_type": "stream",
          "name": "stdout",
          "text": [
            "Outliers: [100]\n"
          ]
        }
      ]
    },
    {
      "cell_type": "markdown",
      "source": [
        "9. Dataset: Sample weights (in kg) of a new diet program: 70, 68, 72, 71, 69, 73,\n",
        "72, 74, 70, 71 Questions: a) Test the hypothesis that the mean weight after the\n",
        "diet program is equal to 70 kg at a 5% significance level. b) Z-Scores"
      ],
      "metadata": {
        "id": "XgciSnWh5RGp"
      }
    },
    {
      "cell_type": "code",
      "source": [
        "\n",
        "weights = [70, 68, 72, 71, 69, 73, 72, 74, 70, 71]\n",
        "n = len(weights)\n",
        "\n",
        "mu_0 = 70\n",
        "mean = sum(weights) / n\n",
        "\n",
        "\n",
        "variance = sum((x - mean) ** 2 for x in weights) / (n - 1)\n",
        "std_dev = variance ** 0.5\n",
        "\n",
        "t_stat = (mean - mu_0) / (std_dev / (n ** 0.5))\n",
        "\n",
        "\n",
        "t_critical = 2.262\n",
        "\n",
        "print(\"Sample Mean:\", mean)\n",
        "print(\"Sample Standard Deviation:\", std_dev)\n",
        "print(\"t-statistic:\", t_stat)\n",
        "print(\"t-critical (df=9, α=0.05):\", t_critical)\n",
        "\n",
        "\n",
        "if abs(t_stat) > t_critical:\n",
        "    print(\"Reject Null Hypothesis: Mean is significantly different from 70\")\n",
        "else:\n",
        "    print(\"Fail to Reject Null Hypothesis: Mean is not significantly different from 70\")\n",
        "\n",
        "z_scores = [(x - mean) / std_dev for x in weights]\n",
        "\n",
        "print(\"\\nZ-Scores:\", z_scores)\n"
      ],
      "metadata": {
        "colab": {
          "base_uri": "https://localhost:8080/"
        },
        "id": "xBC26XgxEYLa",
        "outputId": "08aa163c-e722-40d4-9223-7b2648d7a71e"
      },
      "execution_count": 18,
      "outputs": [
        {
          "output_type": "stream",
          "name": "stdout",
          "text": [
            "Sample Mean: 71.0\n",
            "Sample Standard Deviation: 1.8257418583505538\n",
            "t-statistic: 1.7320508075688774\n",
            "t-critical (df=9, α=0.05): 2.262\n",
            "Fail to Reject Null Hypothesis: Mean is not significantly different from 70\n",
            "\n",
            "Z-Scores: [-0.5477225575051661, -1.6431676725154982, 0.5477225575051661, 0.0, -1.0954451150103321, 1.0954451150103321, 0.5477225575051661, 1.6431676725154982, -0.5477225575051661, 0.0]\n"
          ]
        }
      ]
    },
    {
      "cell_type": "markdown",
      "source": [
        "10. Dataset: Annual salaries of employees (in $1000s): 40, 42, 45, 47, 50, 52, 55,\n",
        "57, 60, 62 Questions: a) Calculate the z-scores for each salary.\n"
      ],
      "metadata": {
        "id": "O3bowwVMHLZO"
      }
    },
    {
      "cell_type": "code",
      "source": [
        "\n",
        "salaries = [40, 42, 45, 47, 50, 52, 55, 57, 60, 62]\n",
        "n = len(salaries)\n",
        "\n",
        "\n",
        "mean_salary = sum(salaries) / n\n",
        "\n",
        "variance = sum((x - mean_salary) ** 2 for x in salaries) / (n - 1)\n",
        "std_dev = variance ** 0.5\n",
        "\n",
        "print(\"Z-scores for salaries:\")\n",
        "for x in salaries:\n",
        "    z = (x - mean_salary) / std_dev\n",
        "    print(f\"{x} -> {z:.2f}\")\n"
      ],
      "metadata": {
        "colab": {
          "base_uri": "https://localhost:8080/"
        },
        "id": "8ykdbgrSPfON",
        "outputId": "8f051e25-c11e-4e65-aeaa-c1124889c4fd"
      },
      "execution_count": 22,
      "outputs": [
        {
          "output_type": "stream",
          "name": "stdout",
          "text": [
            "Z-scores for salaries:\n",
            "40 -> -1.46\n",
            "42 -> -1.20\n",
            "45 -> -0.80\n",
            "47 -> -0.53\n",
            "50 -> -0.13\n",
            "52 -> 0.13\n",
            "55 -> 0.53\n",
            "57 -> 0.80\n",
            "60 -> 1.20\n",
            "62 -> 1.46\n"
          ]
        }
      ]
    },
    {
      "cell_type": "markdown",
      "source": [
        "12. Dataset: Sample data of a new drug's effect on blood pressure reduction (in\n",
        "mmHg): 10, 12, 14, 15, 13, 16, 18, 17, 19, 20\n",
        "Questions: a) Perform a t-test to determine if the new drug has a significant effect\n",
        "on blood pressure reduction."
      ],
      "metadata": {
        "id": "sy4PD3vbQZKS"
      }
    },
    {
      "cell_type": "code",
      "source": [
        "\n",
        "data = [10, 12, 14, 15, 13, 16, 18, 17, 19, 20]\n",
        "n = len(data)\n",
        "\n",
        "mean_value = sum(data) / n\n",
        "\n",
        "\n",
        "variance = sum((x - mean_value) ** 2 for x in data) / (n - 1)\n",
        "std_dev = variance ** 0.5\n",
        "\n",
        "\n",
        "std_error = std_dev / (n ** 0.5)\n",
        "\n",
        "mu0 = 0\n",
        "\n",
        "t_stat = (mean_value - mu0) / std_error\n",
        "\n",
        "print(\"Sample mean:\", round(mean_value, 2))\n",
        "print(\"Standard Deviation:\", round(std_dev, 2))\n",
        "print(\"t-statistic:\", round(t_stat, 2))\n",
        "print(\"Degrees of freedom:\", n - 1)\n",
        "\n",
        "print(\"\\nInterpretation:\")\n",
        "print(\"If t-statistic is much larger than the critical value (~2.26 for df=9, α=0.05 two-tailed),\")\n",
        "print(\"then reject H0 and conclude the drug has a significant effect.\")\n"
      ],
      "metadata": {
        "colab": {
          "base_uri": "https://localhost:8080/"
        },
        "id": "Qzkjb6MZQeV_",
        "outputId": "ceaf9955-8e56-4987-9016-e0ecb1b0b0f6"
      },
      "execution_count": 23,
      "outputs": [
        {
          "output_type": "stream",
          "name": "stdout",
          "text": [
            "Sample mean: 15.4\n",
            "Standard Deviation: 3.2\n",
            "t-statistic: 15.2\n",
            "Degrees of freedom: 9\n",
            "\n",
            "Interpretation:\n",
            "If t-statistic is much larger than the critical value (~2.26 for df=9, α=0.05 two-tailed),\n",
            "then reject H0 and conclude the drug has a significant effect.\n"
          ]
        }
      ]
    }
  ]
}